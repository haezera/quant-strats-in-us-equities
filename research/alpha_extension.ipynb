{
 "cells": [
  {
   "cell_type": "markdown",
   "id": "d525bd4d",
   "metadata": {},
   "source": [
    "### Alpha extension `130/30`\n",
    "\n",
    "We consider an alpha extension using value and momentum factors. The alpha extension strategy is essentially a `100` long index-tracking strategy (we shifted constituents one month forward, so we essentially take the index weights of the previous months for the current month), combined with a `30/30` equity-market neutral component.\n",
    "\n",
    "Then, we can consider our `30/30` component to be our \"alpha-seeking\" component, and could, in isolation, be benchmarked with a cash-holding basis (for example `SOFR`). \n",
    "\n",
    "#### Details on leverage and borrow cost\n",
    "\n",
    "We have a net exposure of `130 + 30 = 160`, so we have a `1.6:1` leverage ratio on invested capital. Therefore, our leverage ratio is $L = 1.6$.\n",
    "\n",
    "Our levered return is then\n",
    "\n",
    "$$ R_{\\text{levered}} = L \\cdot R_{\\text{unlevered}} - (L - 1) \\cdot c $$\n",
    "\n",
    "where $c$ is borrow cost, and $R$ is return for a period. We will begin with a `0` borrow cost assumption (for both shorts and leverage), and then slowly build realism.\n",
    "\n",
    "#### Details on portfolio construction\n",
    "\n",
    "As stated previously, the `130/30` is split into a `100` index-long + `30/30` equity market neutral. We constrain the equity market neutral component using constrained optimisation with a weight sum of `0.6`, and a long/short constraint."
   ]
  }
 ],
 "metadata": {
  "language_info": {
   "name": "python"
  }
 },
 "nbformat": 4,
 "nbformat_minor": 5
}
