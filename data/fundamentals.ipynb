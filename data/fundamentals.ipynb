{
 "cells": [
  {
   "cell_type": "markdown",
   "id": "e421988f",
   "metadata": {},
   "source": [
    "In this notebook we clean and aggregate fundamentals data, similar to the prices data."
   ]
  },
  {
   "cell_type": "code",
   "execution_count": 18,
   "id": "a6a4eb24",
   "metadata": {},
   "outputs": [],
   "source": [
    "import pandas as pd\n",
    "from dotenv import load_dotenv\n",
    "from sqlalchemy import create_engine\n",
    "import os\n",
    "\n",
    "load_dotenv('../.env')\n",
    "db_url = os.getenv('DB_URL')\n",
    "psql = create_engine(db_url)"
   ]
  },
  {
   "cell_type": "code",
   "execution_count": 3,
   "id": "eca29795",
   "metadata": {},
   "outputs": [],
   "source": [
    "fundamentals = pd.read_csv('~/Downloads/daily_fundamentals.csv')"
   ]
  },
  {
   "cell_type": "code",
   "execution_count": 7,
   "id": "65c90b9c",
   "metadata": {},
   "outputs": [],
   "source": [
    "# now we aggregate to monthly fundamentals per ticker\n",
    "\n",
    "factors = ['ev', 'evebit', 'evebitda', 'marketcap', 'pb', 'pe', 'ps']\n",
    "fundamentals['date'] = pd.to_datetime(fundamentals['date'])\n",
    "monthly_fundamentals = fundamentals.set_index('date').groupby('ticker', group_keys=False).resample('ME').last().reset_index()"
   ]
  },
  {
   "cell_type": "code",
   "execution_count": null,
   "id": "d44437f4",
   "metadata": {},
   "outputs": [],
   "source": [
    "monthly_fundamentals = monthly_fundamentals[['ticker', 'date'] + factors]\n",
    "\n",
    "long_monthly = pd.melt(\n",
    "    monthly_fundamentals,\n",
    "    id_vars=[\"date\", \"ticker\"],           # keep these as index-like identifiers\n",
    "    value_vars=factors, \n",
    "    var_name=\"factor\", \n",
    "    value_name=\"value\"\n",
    ")\n",
    "\n",
    "long_monthly = long_monthly.dropna()\n",
    "# long_monthly.to_sql('eom_factors', psql, if_exists='append', index=False)"
   ]
  }
 ],
 "metadata": {
  "kernelspec": {
   "display_name": "research",
   "language": "python",
   "name": "python3"
  },
  "language_info": {
   "codemirror_mode": {
    "name": "ipython",
    "version": 3
   },
   "file_extension": ".py",
   "mimetype": "text/x-python",
   "name": "python",
   "nbconvert_exporter": "python",
   "pygments_lexer": "ipython3",
   "version": "3.12.2"
  }
 },
 "nbformat": 4,
 "nbformat_minor": 5
}
