{
 "cells": [
  {
   "cell_type": "markdown",
   "id": "22e20622",
   "metadata": {},
   "source": [
    "We want to have a database of active constituents we consider for portfolio selection before we can do any factor research.\n",
    "\n",
    "Our rule is simple - get the 1000 highest market cap stocks, and take them for consideration."
   ]
  },
  {
   "cell_type": "code",
   "execution_count": 118,
   "id": "d2658e3b",
   "metadata": {},
   "outputs": [],
   "source": [
    "import pandas as pd\n",
    "from dotenv import load_dotenv\n",
    "from sqlalchemy import create_engine\n",
    "import os\n",
    "import numpy as np\n",
    "import seaborn as sns\n",
    "import matplotlib.pyplot as plt\n",
    "\n",
    "load_dotenv('../.env')\n",
    "db_url = os.getenv('DB_URL')\n",
    "psql = create_engine(db_url)"
   ]
  },
  {
   "cell_type": "code",
   "execution_count": null,
   "id": "acaa8082",
   "metadata": {},
   "outputs": [],
   "source": [
    "# our biggest problem is outliers due to data errors/anomalies.\n",
    "# we will try our best to limit these, using some fairly elementary strategies"
   ]
  },
  {
   "cell_type": "code",
   "execution_count": 13,
   "id": "112817ca",
   "metadata": {},
   "outputs": [],
   "source": [
    "data = pd.read_sql(\"select * from eom_factors where factor in ('marketcap', 'ev', 'pe')\", psql)"
   ]
  },
  {
   "cell_type": "code",
   "execution_count": null,
   "id": "448f8766",
   "metadata": {},
   "outputs": [],
   "source": [
    "wide_data = data.pivot(\n",
    "    index=['date', 'ticker'],\n",
    "    columns='factor',\n",
    "    values='value'\n",
    ").reset_index()\n",
    "wide_data['date'] = pd.to_datetime(wide_data['date'])"
   ]
  },
  {
   "cell_type": "code",
   "execution_count": 16,
   "id": "397fbb51",
   "metadata": {},
   "outputs": [
    {
     "data": {
      "text/html": [
       "<div>\n",
       "<style scoped>\n",
       "    .dataframe tbody tr th:only-of-type {\n",
       "        vertical-align: middle;\n",
       "    }\n",
       "\n",
       "    .dataframe tbody tr th {\n",
       "        vertical-align: top;\n",
       "    }\n",
       "\n",
       "    .dataframe thead th {\n",
       "        text-align: right;\n",
       "    }\n",
       "</style>\n",
       "<table border=\"1\" class=\"dataframe\">\n",
       "  <thead>\n",
       "    <tr style=\"text-align: right;\">\n",
       "      <th>factor</th>\n",
       "      <th>date</th>\n",
       "      <th>ticker</th>\n",
       "      <th>ev</th>\n",
       "      <th>marketcap</th>\n",
       "      <th>pe</th>\n",
       "    </tr>\n",
       "  </thead>\n",
       "  <tbody>\n",
       "    <tr>\n",
       "      <th>1312699</th>\n",
       "      <td>2017-05-31</td>\n",
       "      <td>AYTU</td>\n",
       "      <td>-3.5</td>\n",
       "      <td>0.0</td>\n",
       "      <td>0.0</td>\n",
       "    </tr>\n",
       "    <tr>\n",
       "      <th>1218948</th>\n",
       "      <td>2015-11-30</td>\n",
       "      <td>BODY1</td>\n",
       "      <td>10.9</td>\n",
       "      <td>0.0</td>\n",
       "      <td>0.0</td>\n",
       "    </tr>\n",
       "    <tr>\n",
       "      <th>458965</th>\n",
       "      <td>2004-09-30</td>\n",
       "      <td>DCSR</td>\n",
       "      <td>2.0</td>\n",
       "      <td>0.0</td>\n",
       "      <td>0.0</td>\n",
       "    </tr>\n",
       "    <tr>\n",
       "      <th>1130721</th>\n",
       "      <td>2014-06-30</td>\n",
       "      <td>PTIX</td>\n",
       "      <td>2.0</td>\n",
       "      <td>0.0</td>\n",
       "      <td>0.0</td>\n",
       "    </tr>\n",
       "    <tr>\n",
       "      <th>587403</th>\n",
       "      <td>2006-06-30</td>\n",
       "      <td>BBUCQ</td>\n",
       "      <td>18.4</td>\n",
       "      <td>0.0</td>\n",
       "      <td>0.0</td>\n",
       "    </tr>\n",
       "    <tr>\n",
       "      <th>...</th>\n",
       "      <td>...</td>\n",
       "      <td>...</td>\n",
       "      <td>...</td>\n",
       "      <td>...</td>\n",
       "      <td>...</td>\n",
       "    </tr>\n",
       "    <tr>\n",
       "      <th>587148</th>\n",
       "      <td>2006-06-30</td>\n",
       "      <td>APDN</td>\n",
       "      <td>5248414.2</td>\n",
       "      <td>5248412.6</td>\n",
       "      <td>-482657.0</td>\n",
       "    </tr>\n",
       "    <tr>\n",
       "      <th>630033</th>\n",
       "      <td>2007-01-31</td>\n",
       "      <td>APDN</td>\n",
       "      <td>5998187.4</td>\n",
       "      <td>5998185.8</td>\n",
       "      <td>-551608.0</td>\n",
       "    </tr>\n",
       "    <tr>\n",
       "      <th>648234</th>\n",
       "      <td>2007-04-30</td>\n",
       "      <td>APDN</td>\n",
       "      <td>6373074.1</td>\n",
       "      <td>6373072.5</td>\n",
       "      <td>-586083.5</td>\n",
       "    </tr>\n",
       "    <tr>\n",
       "      <th>642166</th>\n",
       "      <td>2007-03-31</td>\n",
       "      <td>APDN</td>\n",
       "      <td>7497733.9</td>\n",
       "      <td>7497732.3</td>\n",
       "      <td>-689510.1</td>\n",
       "    </tr>\n",
       "    <tr>\n",
       "      <th>636108</th>\n",
       "      <td>2007-02-28</td>\n",
       "      <td>APDN</td>\n",
       "      <td>7497733.9</td>\n",
       "      <td>7497732.3</td>\n",
       "      <td>-689510.1</td>\n",
       "    </tr>\n",
       "  </tbody>\n",
       "</table>\n",
       "<p>1866673 rows × 5 columns</p>\n",
       "</div>"
      ],
      "text/plain": [
       "factor         date ticker         ev  marketcap        pe\n",
       "1312699  2017-05-31   AYTU       -3.5        0.0       0.0\n",
       "1218948  2015-11-30  BODY1       10.9        0.0       0.0\n",
       "458965   2004-09-30   DCSR        2.0        0.0       0.0\n",
       "1130721  2014-06-30   PTIX        2.0        0.0       0.0\n",
       "587403   2006-06-30  BBUCQ       18.4        0.0       0.0\n",
       "...             ...    ...        ...        ...       ...\n",
       "587148   2006-06-30   APDN  5248414.2  5248412.6 -482657.0\n",
       "630033   2007-01-31   APDN  5998187.4  5998185.8 -551608.0\n",
       "648234   2007-04-30   APDN  6373074.1  6373072.5 -586083.5\n",
       "642166   2007-03-31   APDN  7497733.9  7497732.3 -689510.1\n",
       "636108   2007-02-28   APDN  7497733.9  7497732.3 -689510.1\n",
       "\n",
       "[1866673 rows x 5 columns]"
      ]
     },
     "execution_count": 16,
     "metadata": {},
     "output_type": "execute_result"
    }
   ],
   "source": [
    "wide_data.sort_values('marketcap')"
   ]
  },
  {
   "cell_type": "markdown",
   "id": "a20e50c4",
   "metadata": {},
   "source": [
    "The problem above is pretty clear, `APDN` (Applied DNA Sciences Inc.) is supposed valued at 7.5 trillion USD in 2007. We'll work around these by filtering outliers out by *PE*, which appears to be a more robust way fo checking for outliers, and we'll see the results from there.\n",
    "\n",
    "As an example, consider the P/E of the most recent date."
   ]
  },
  {
   "cell_type": "code",
   "execution_count": 18,
   "id": "460f5caa",
   "metadata": {},
   "outputs": [
    {
     "data": {
      "text/html": [
       "<div>\n",
       "<style scoped>\n",
       "    .dataframe tbody tr th:only-of-type {\n",
       "        vertical-align: middle;\n",
       "    }\n",
       "\n",
       "    .dataframe tbody tr th {\n",
       "        vertical-align: top;\n",
       "    }\n",
       "\n",
       "    .dataframe thead th {\n",
       "        text-align: right;\n",
       "    }\n",
       "</style>\n",
       "<table border=\"1\" class=\"dataframe\">\n",
       "  <thead>\n",
       "    <tr style=\"text-align: right;\">\n",
       "      <th>factor</th>\n",
       "      <th>date</th>\n",
       "      <th>ticker</th>\n",
       "      <th>ev</th>\n",
       "      <th>marketcap</th>\n",
       "      <th>pe</th>\n",
       "    </tr>\n",
       "  </thead>\n",
       "  <tbody>\n",
       "    <tr>\n",
       "      <th>1861909</th>\n",
       "      <td>2025-08-31</td>\n",
       "      <td>BINI</td>\n",
       "      <td>22.9</td>\n",
       "      <td>0.0</td>\n",
       "      <td>0.0</td>\n",
       "    </tr>\n",
       "    <tr>\n",
       "      <th>1865069</th>\n",
       "      <td>2025-08-31</td>\n",
       "      <td>PLRZ</td>\n",
       "      <td>-2.6</td>\n",
       "      <td>0.0</td>\n",
       "      <td>0.0</td>\n",
       "    </tr>\n",
       "    <tr>\n",
       "      <th>1863254</th>\n",
       "      <td>2025-08-31</td>\n",
       "      <td>GDHG</td>\n",
       "      <td>-58.5</td>\n",
       "      <td>0.1</td>\n",
       "      <td>0.0</td>\n",
       "    </tr>\n",
       "    <tr>\n",
       "      <th>1863572</th>\n",
       "      <td>2025-08-31</td>\n",
       "      <td>HSDT</td>\n",
       "      <td>-1.0</td>\n",
       "      <td>0.1</td>\n",
       "      <td>0.0</td>\n",
       "    </tr>\n",
       "    <tr>\n",
       "      <th>1864894</th>\n",
       "      <td>2025-08-31</td>\n",
       "      <td>OST</td>\n",
       "      <td>23.5</td>\n",
       "      <td>0.2</td>\n",
       "      <td>0.0</td>\n",
       "    </tr>\n",
       "    <tr>\n",
       "      <th>...</th>\n",
       "      <td>...</td>\n",
       "      <td>...</td>\n",
       "      <td>...</td>\n",
       "      <td>...</td>\n",
       "      <td>...</td>\n",
       "    </tr>\n",
       "    <tr>\n",
       "      <th>1861548</th>\n",
       "      <td>2025-08-31</td>\n",
       "      <td>AMZN</td>\n",
       "      <td>2451167.3</td>\n",
       "      <td>2374969.3</td>\n",
       "      <td>33.6</td>\n",
       "    </tr>\n",
       "    <tr>\n",
       "      <th>1863361</th>\n",
       "      <td>2025-08-31</td>\n",
       "      <td>GOOGL</td>\n",
       "      <td>2450496.5</td>\n",
       "      <td>2435973.5</td>\n",
       "      <td>21.1</td>\n",
       "    </tr>\n",
       "    <tr>\n",
       "      <th>1861275</th>\n",
       "      <td>2025-08-31</td>\n",
       "      <td>AAPL</td>\n",
       "      <td>3469072.4</td>\n",
       "      <td>3403643.4</td>\n",
       "      <td>34.3</td>\n",
       "    </tr>\n",
       "    <tr>\n",
       "      <th>1864459</th>\n",
       "      <td>2025-08-31</td>\n",
       "      <td>MSFT</td>\n",
       "      <td>3846433.2</td>\n",
       "      <td>3880410.2</td>\n",
       "      <td>38.1</td>\n",
       "    </tr>\n",
       "    <tr>\n",
       "      <th>1864718</th>\n",
       "      <td>2025-08-31</td>\n",
       "      <td>NVDA</td>\n",
       "      <td>4452631.0</td>\n",
       "      <td>4457880.0</td>\n",
       "      <td>58.1</td>\n",
       "    </tr>\n",
       "  </tbody>\n",
       "</table>\n",
       "<p>5412 rows × 5 columns</p>\n",
       "</div>"
      ],
      "text/plain": [
       "factor         date ticker         ev  marketcap    pe\n",
       "1861909  2025-08-31   BINI       22.9        0.0   0.0\n",
       "1865069  2025-08-31   PLRZ       -2.6        0.0   0.0\n",
       "1863254  2025-08-31   GDHG      -58.5        0.1   0.0\n",
       "1863572  2025-08-31   HSDT       -1.0        0.1   0.0\n",
       "1864894  2025-08-31    OST       23.5        0.2   0.0\n",
       "...             ...    ...        ...        ...   ...\n",
       "1861548  2025-08-31   AMZN  2451167.3  2374969.3  33.6\n",
       "1863361  2025-08-31  GOOGL  2450496.5  2435973.5  21.1\n",
       "1861275  2025-08-31   AAPL  3469072.4  3403643.4  34.3\n",
       "1864459  2025-08-31   MSFT  3846433.2  3880410.2  38.1\n",
       "1864718  2025-08-31   NVDA  4452631.0  4457880.0  58.1\n",
       "\n",
       "[5412 rows x 5 columns]"
      ]
     },
     "execution_count": 18,
     "metadata": {},
     "output_type": "execute_result"
    }
   ],
   "source": [
    "wide_data[wide_data['date'] == wide_data['date'].max()].sort_values('marketcap')"
   ]
  },
  {
   "cell_type": "markdown",
   "id": "287aaeea",
   "metadata": {},
   "source": [
    "I think clipping within 1% bounds will be enough. This might clip so very overvalued stocks in some dates, but this is better than believing that APDN is the highest valued stock in the entire universe in 2007.\n",
    "\n",
    "So for each day, remove any stocks that have a statistically improbable `PE` ratio, and then get the names of the top 1000 stocks."
   ]
  },
  {
   "cell_type": "code",
   "execution_count": 275,
   "id": "54049e9b",
   "metadata": {},
   "outputs": [],
   "source": [
    "filter_history = []\n",
    "constituent_history = []\n",
    "\n",
    "ticker_data = pd.read_csv('~/Downloads/tickers.csv')\n",
    "\n",
    "# we don't allow ADRs and ETFs\n",
    "ticker_data = ticker_data[\n",
    "    (ticker_data['category'] != 'ADR Common Stock') &\n",
    "    (ticker_data['category'] != 'ADR Common Stock Primary Class') &\n",
    "    (ticker_data['category'] != 'ETF')\n",
    "]\n",
    "ticker_data = ticker_data[['ticker', 'sector']].dropna().drop_duplicates(['ticker'])\n",
    "\n",
    "# ensure dates are sorted\n",
    "for date, date_data in wide_data.groupby(\"date\"):\n",
    "    date_data = date_data.copy()\n",
    "    date_data[\"year\"] = date_data[\"date\"].dt.year\n",
    "    date_data[\"month\"] = date_data[\"date\"].dt.month\n",
    "\n",
    "# pick one rebalance month per year (e.g., June = 6)\n",
    "rebalance_month = 6\n",
    "rebalance_dates = (\n",
    "    wide_data[wide_data[\"date\"].dt.month == rebalance_month][\"date\"].unique()\n",
    ")\n",
    "\n",
    "# dictionary to hold latest rebalance portfolio\n",
    "latest_portfolio = None\n",
    "latest_year = None\n",
    "\n",
    "for date, date_data in wide_data.groupby(\"date\"):\n",
    "    year = date.year\n",
    "    month = date.month\n",
    "\n",
    "    # if this is a rebalance month, select new top 1000\n",
    "    if month == rebalance_month:\n",
    "        lo, hi = date_data[\"pe\"].quantile([0.01, 0.99])\n",
    "        mask = date_data[\"pe\"].between(lo, hi)\n",
    "        valid_data = date_data[mask].merge(ticker_data, on='ticker')\n",
    "\n",
    "        top1000 = (\n",
    "            valid_data.sort_values(\"marketcap\", ascending=False)\n",
    "            .head(1000)\n",
    "            .copy()\n",
    "        )\n",
    "        top1000[\"index_weight\"] = (\n",
    "            (top1000[\"ev\"] / top1000[\"ev\"].sum())\n",
    "        )\n",
    "        latest_portfolio = top1000[[\"date\", \"ticker\", \"index_weight\", 'sector']].copy()\n",
    "        latest_year = year\n",
    "\n",
    "        filter_history.append({\"date\": date, \"lo\": lo, \"hi\": hi})\n",
    "\n",
    "    # for non-rebalance months, reuse latest portfolio but stamp with current date\n",
    "    if latest_portfolio is not None:\n",
    "        temp = latest_portfolio.copy()\n",
    "        temp[\"date\"] = date   # overwrite date so we get 12 months\n",
    "        constituent_history.append(temp)\n",
    "\n",
    "constituent_history = pd.concat(constituent_history, ignore_index=True)\n",
    "constituent_history['date'] = pd.to_datetime(constituent_history['date'])"
   ]
  },
  {
   "cell_type": "markdown",
   "id": "2e19300a",
   "metadata": {},
   "source": [
    "Let's quickly plot the P/E bounds to see if they look fairly sensible across history."
   ]
  },
  {
   "cell_type": "code",
   "execution_count": 202,
   "id": "43903d6b",
   "metadata": {},
   "outputs": [
    {
     "data": {
      "text/plain": [
       "Text(0, 0.5, 'P/E Ratio Filter')"
      ]
     },
     "execution_count": 202,
     "metadata": {},
     "output_type": "execute_result"
    },
    {
     "data": {
      "image/png": "[encoded data removed]",
      "text/plain": [
       "<Figure size 640x480 with 1 Axes>"
      ]
     },
     "metadata": {},
     "output_type": "display_data"
    }
   ],
   "source": [
    "filter_df = pd.DataFrame(filter_history)\n",
    "plt.plot(filter_df['date'], filter_df['lo'], label='Low filter')\n",
    "plt.plot(filter_df['date'], filter_df['hi'], label='High filter')\n",
    "plt.grid(alpha=0.3)\n",
    "plt.legend()\n",
    "plt.ylabel('P/E Ratio Filter')"
   ]
  },
  {
   "cell_type": "markdown",
   "id": "097cae13",
   "metadata": {},
   "source": [
    "We can see during COVID that the profitability of some stocks crashes; this makes sense particularly for mid to small cap U.S equities."
   ]
  },
  {
   "cell_type": "code",
   "execution_count": 276,
   "id": "89243cd4",
   "metadata": {},
   "outputs": [
    {
     "data": {
      "text/plain": [
       "1000"
      ]
     },
     "execution_count": 276,
     "metadata": {},
     "output_type": "execute_result"
    }
   ],
   "source": [
    "russell_1000_proxy = constituent_history.copy()\n",
    "# we avoid lookahead bias (we don't know the market cap until after the day's close)\n",
    "# leaking this data might be \n",
    "russell_1000_proxy['date'] = pd.to_datetime(russell_1000_proxy['date']) + pd.DateOffset(months=1)\n",
    "russell_1000_proxy['date'] = russell_1000_proxy['date'].dt.date\n",
    "russell_1000_proxy['index'] = 'Russell 1000'\n",
    "russell_1000_proxy.to_sql('monthly_constituents', psql, if_exists='append', index=False)"
   ]
  },
  {
   "cell_type": "markdown",
   "id": "2233897e",
   "metadata": {},
   "source": [
    "An interesting experiment would be to construct cumulative returns for our Russell 1000 proxy and see how well it tracks the actual Russell 100 ETF. An obvious flaw is that we rebalance monthly."
   ]
  },
  {
   "cell_type": "code",
   "execution_count": 280,
   "id": "12939df2",
   "metadata": {},
   "outputs": [],
   "source": [
    "russell_1k = pd.read_sql(\"select * from eom_prices where ticker = 'IWB'\", psql)\n",
    "russell_1k = russell_1k.sort_values('date')\n",
    "russell_1k['date'] = pd.to_datetime(russell_1k['date'])\n",
    "russell_1k['return'] = russell_1k['price'].pct_change()\n",
    "russell_1k['cumulative_return'] = (1 + russell_1k['return']).cumprod() - 1\n",
    "russell_1k = russell_1k.dropna()\n",
    "\n",
    "stock_prices = pd.read_sql('select * from eom_prices', psql)\n",
    "stock_prices['date'] = pd.to_datetime(stock_prices['date'])\n",
    "stock_prices = stock_prices.merge(constituent_history, on=['date', 'ticker'])\n",
    "\n",
    "stock_prices['prev_date'] = stock_prices.groupby('ticker')['date'].shift()\n",
    "\n",
    "month_diff = (\n",
    "    (stock_prices['date'].dt.year - stock_prices['prev_date'].dt.year) * 12\n",
    "    + (stock_prices['date'].dt.month - stock_prices['prev_date'].dt.month)\n",
    ")\n",
    "\n",
    "stock_prices['return'] = (\n",
    "    stock_prices.groupby('ticker')['price'].pct_change()\n",
    "    .where(month_diff == 1)   # set to NaN if gap > 1\n",
    ")\n",
    "\n",
    "stock_prices = stock_prices.drop(columns=['prev_date']).dropna()"
   ]
  },
  {
   "cell_type": "code",
   "execution_count": null,
   "id": "339a1177",
   "metadata": {},
   "outputs": [
    {
     "name": "stderr",
     "output_type": "stream",
     "text": [
      "/var/folders/qq/9n_h2x6x0pl9pvyr0gpk4m_r0000gn/T/ipykernel_65262/3374534489.py:6: DeprecationWarning: DataFrameGroupBy.apply operated on the grouping columns. This behavior is deprecated, and in a future version of pandas the grouping columns will be excluded from the operation. Either pass `include_groups=False` to exclude the groupings or explicitly select the grouping columns after groupby to silence this warning.\n",
      "  .apply(lambda g: np.average(g[\"return\"], weights=g[\"index_weight\"]))\n"
     ]
    }
   ],
   "source": [
    "# sort by date and ticker\n",
    "\n",
    "russell_1k_proxy = (\n",
    "    stock_prices\n",
    "    .groupby(\"date\", group_keys=False)\n",
    "    .apply(lambda g: np.average(g[\"return\"], weights=g[\"index_weight\"]))\n",
    "    .reset_index(name='return')\n",
    ")\n",
    "russell_1k_proxy['cumulative_return'] = (1 + russell_1k_proxy['return']).cumprod() - 1"
   ]
  },
  {
   "cell_type": "code",
   "execution_count": 282,
   "id": "7666c775",
   "metadata": {},
   "outputs": [
    {
     "ename": "KeyError",
     "evalue": "'cumulative_return'",
     "output_type": "error",
     "traceback": [
      "\u001b[0;31m---------------------------------------------------------------------------\u001b[0m",
      "\u001b[0;31mKeyError\u001b[0m                                  Traceback (most recent call last)",
      "File \u001b[0;32m~/miniconda3/envs/research/lib/python3.12/site-packages/pandas/core/indexes/base.py:3805\u001b[0m, in \u001b[0;36mIndex.get_loc\u001b[0;34m(self, key)\u001b[0m\n\u001b[1;32m   3804\u001b[0m \u001b[38;5;28;01mtry\u001b[39;00m:\n\u001b[0;32m-> 3805\u001b[0m     \u001b[38;5;28;01mreturn\u001b[39;00m \u001b[38;5;28;43mself\u001b[39;49m\u001b[38;5;241;43m.\u001b[39;49m\u001b[43m_engine\u001b[49m\u001b[38;5;241;43m.\u001b[39;49m\u001b[43mget_loc\u001b[49m\u001b[43m(\u001b[49m\u001b[43mcasted_key\u001b[49m\u001b[43m)\u001b[49m\n\u001b[1;32m   3806\u001b[0m \u001b[38;5;28;01mexcept\u001b[39;00m \u001b[38;5;167;01mKeyError\u001b[39;00m \u001b[38;5;28;01mas\u001b[39;00m err:\n",
      "File \u001b[0;32mindex.pyx:167\u001b[0m, in \u001b[0;36mpandas._libs.index.IndexEngine.get_loc\u001b[0;34m()\u001b[0m\n",
      "File \u001b[0;32mindex.pyx:196\u001b[0m, in \u001b[0;36mpandas._libs.index.IndexEngine.get_loc\u001b[0;34m()\u001b[0m\n",
      "File \u001b[0;32mpandas/_libs/hashtable_class_helper.pxi:7081\u001b[0m, in \u001b[0;36mpandas._libs.hashtable.PyObjectHashTable.get_item\u001b[0;34m()\u001b[0m\n",
      "File \u001b[0;32mpandas/_libs/hashtable_class_helper.pxi:7089\u001b[0m, in \u001b[0;36mpandas._libs.hashtable.PyObjectHashTable.get_item\u001b[0;34m()\u001b[0m\n",
      "\u001b[0;31mKeyError\u001b[0m: 'cumulative_return'",
      "\nThe above exception was the direct cause of the following exception:\n",
      "\u001b[0;31mKeyError\u001b[0m                                  Traceback (most recent call last)",
      "Cell \u001b[0;32mIn[282], line 1\u001b[0m\n\u001b[0;32m----> 1\u001b[0m plt\u001b[38;5;241m.\u001b[39mplot(russell_1k_proxy[\u001b[38;5;124m'\u001b[39m\u001b[38;5;124mdate\u001b[39m\u001b[38;5;124m'\u001b[39m], \u001b[43mrussell_1k_proxy\u001b[49m\u001b[43m[\u001b[49m\u001b[38;5;124;43m'\u001b[39;49m\u001b[38;5;124;43mcumulative_return\u001b[39;49m\u001b[38;5;124;43m'\u001b[39;49m\u001b[43m]\u001b[49m, label\u001b[38;5;241m=\u001b[39m\u001b[38;5;124m'\u001b[39m\u001b[38;5;124mProxy\u001b[39m\u001b[38;5;124m'\u001b[39m)\n\u001b[1;32m      2\u001b[0m plt\u001b[38;5;241m.\u001b[39mplot(russell_1k[\u001b[38;5;124m'\u001b[39m\u001b[38;5;124mdate\u001b[39m\u001b[38;5;124m'\u001b[39m], russell_1k[\u001b[38;5;124m'\u001b[39m\u001b[38;5;124mcumulative_return\u001b[39m\u001b[38;5;124m'\u001b[39m], label\u001b[38;5;241m=\u001b[39m\u001b[38;5;124m'\u001b[39m\u001b[38;5;124mReal Index\u001b[39m\u001b[38;5;124m'\u001b[39m)\n\u001b[1;32m      3\u001b[0m sns\u001b[38;5;241m.\u001b[39mdespine()\n",
      "File \u001b[0;32m~/miniconda3/envs/research/lib/python3.12/site-packages/pandas/core/frame.py:4102\u001b[0m, in \u001b[0;36mDataFrame.__getitem__\u001b[0;34m(self, key)\u001b[0m\n\u001b[1;32m   4100\u001b[0m \u001b[38;5;28;01mif\u001b[39;00m \u001b[38;5;28mself\u001b[39m\u001b[38;5;241m.\u001b[39mcolumns\u001b[38;5;241m.\u001b[39mnlevels \u001b[38;5;241m>\u001b[39m \u001b[38;5;241m1\u001b[39m:\n\u001b[1;32m   4101\u001b[0m     \u001b[38;5;28;01mreturn\u001b[39;00m \u001b[38;5;28mself\u001b[39m\u001b[38;5;241m.\u001b[39m_getitem_multilevel(key)\n\u001b[0;32m-> 4102\u001b[0m indexer \u001b[38;5;241m=\u001b[39m \u001b[38;5;28;43mself\u001b[39;49m\u001b[38;5;241;43m.\u001b[39;49m\u001b[43mcolumns\u001b[49m\u001b[38;5;241;43m.\u001b[39;49m\u001b[43mget_loc\u001b[49m\u001b[43m(\u001b[49m\u001b[43mkey\u001b[49m\u001b[43m)\u001b[49m\n\u001b[1;32m   4103\u001b[0m \u001b[38;5;28;01mif\u001b[39;00m is_integer(indexer):\n\u001b[1;32m   4104\u001b[0m     indexer \u001b[38;5;241m=\u001b[39m [indexer]\n",
      "File \u001b[0;32m~/miniconda3/envs/research/lib/python3.12/site-packages/pandas/core/indexes/base.py:3812\u001b[0m, in \u001b[0;36mIndex.get_loc\u001b[0;34m(self, key)\u001b[0m\n\u001b[1;32m   3807\u001b[0m     \u001b[38;5;28;01mif\u001b[39;00m \u001b[38;5;28misinstance\u001b[39m(casted_key, \u001b[38;5;28mslice\u001b[39m) \u001b[38;5;129;01mor\u001b[39;00m (\n\u001b[1;32m   3808\u001b[0m         \u001b[38;5;28misinstance\u001b[39m(casted_key, abc\u001b[38;5;241m.\u001b[39mIterable)\n\u001b[1;32m   3809\u001b[0m         \u001b[38;5;129;01mand\u001b[39;00m \u001b[38;5;28many\u001b[39m(\u001b[38;5;28misinstance\u001b[39m(x, \u001b[38;5;28mslice\u001b[39m) \u001b[38;5;28;01mfor\u001b[39;00m x \u001b[38;5;129;01min\u001b[39;00m casted_key)\n\u001b[1;32m   3810\u001b[0m     ):\n\u001b[1;32m   3811\u001b[0m         \u001b[38;5;28;01mraise\u001b[39;00m InvalidIndexError(key)\n\u001b[0;32m-> 3812\u001b[0m     \u001b[38;5;28;01mraise\u001b[39;00m \u001b[38;5;167;01mKeyError\u001b[39;00m(key) \u001b[38;5;28;01mfrom\u001b[39;00m \u001b[38;5;21;01merr\u001b[39;00m\n\u001b[1;32m   3813\u001b[0m \u001b[38;5;28;01mexcept\u001b[39;00m \u001b[38;5;167;01mTypeError\u001b[39;00m:\n\u001b[1;32m   3814\u001b[0m     \u001b[38;5;66;03m# If we have a listlike key, _check_indexing_error will raise\u001b[39;00m\n\u001b[1;32m   3815\u001b[0m     \u001b[38;5;66;03m#  InvalidIndexError. Otherwise we fall through and re-raise\u001b[39;00m\n\u001b[1;32m   3816\u001b[0m     \u001b[38;5;66;03m#  the TypeError.\u001b[39;00m\n\u001b[1;32m   3817\u001b[0m     \u001b[38;5;28mself\u001b[39m\u001b[38;5;241m.\u001b[39m_check_indexing_error(key)\n",
      "\u001b[0;31mKeyError\u001b[0m: 'cumulative_return'"
     ]
    }
   ],
   "source": [
    "plt.plot(russell_1k_proxy['date'], russell_1k_proxy['cumulative_return'], label='Proxy')\n",
    "plt.plot(russell_1k['date'], russell_1k['cumulative_return'], label='Real Index')\n",
    "sns.despine()\n",
    "plt.legend()\n",
    "plt.grid(alpha=0.3)"
   ]
  },
  {
   "cell_type": "markdown",
   "id": "05ee23c7",
   "metadata": {},
   "source": [
    "The proxy is actually pretty good! It is clearly overweighting some of the larger cap stocks (that have overperformed in recent decades). It clearly has a beta to the real Russell 1000 index, which is the important part for us."
   ]
  },
  {
   "cell_type": "code",
   "execution_count": 164,
   "id": "fb813d02",
   "metadata": {},
   "outputs": [],
   "source": [
    "russell_real = russell_1k[['date', 'return']].rename(columns={'return': 'real'})\n",
    "russell_proxy = russell_1k_proxy[['date', 'return']].rename(columns={'return': 'proxy'})\n",
    "russell_data = russell_real.merge(russell_proxy, on='date')"
   ]
  },
  {
   "cell_type": "code",
   "execution_count": 165,
   "id": "7c227658",
   "metadata": {},
   "outputs": [
    {
     "name": "stdout",
     "output_type": "stream",
     "text": [
      "Alpha: 0.0012028774565903432\n",
      "Beta: 0.7986315268374049\n"
     ]
    },
    {
     "data": {
      "image/png": "[encoded data removed]",
      "text/plain": [
       "<Figure size 640x480 with 1 Axes>"
      ]
     },
     "metadata": {},
     "output_type": "display_data"
    }
   ],
   "source": [
    "plt.scatter(russell_data['proxy'], russell_data['real'], marker='x')\n",
    "beta, alpha = np.polyfit(russell_data[\"proxy\"], russell_data[\"real\"], 1)\n",
    "print(\"Alpha:\", alpha)\n",
    "print(\"Beta:\", beta)"
   ]
  }
 ],
 "metadata": {
  "kernelspec": {
   "display_name": "research",
   "language": "python",
   "name": "python3"
  },
  "language_info": {
   "codemirror_mode": {
    "name": "ipython",
    "version": 3
   },
   "file_extension": ".py",
   "mimetype": "text/x-python",
   "name": "python",
   "nbconvert_exporter": "python",
   "pygments_lexer": "ipython3",
   "version": "3.12.2"
  }
 },
 "nbformat": 4,
 "nbformat_minor": 5
}
