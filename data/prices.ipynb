{
 "cells": [
  {
   "cell_type": "markdown",
   "id": "c829eee3",
   "metadata": {},
   "source": [
    "In this notebook I clean and aggregate equity data to end-of-month data.\n",
    "\n",
    "I also fetch end of month data for the Russell 3000, proxied by `IWV`, an iShares Russell 3000 ETF."
   ]
  },
  {
   "cell_type": "code",
   "execution_count": 2,
   "id": "18756c4b",
   "metadata": {},
   "outputs": [],
   "source": [
    "import pandas as pd\n",
    "import yfinance as yf\n",
    "from dotenv import load_dotenv\n",
    "from sqlalchemy import create_engine\n",
    "import os\n",
    "\n",
    "load_dotenv('../.env')\n",
    "db_url = os.getenv('DB_URL')\n",
    "psql = create_engine(db_url)"
   ]
  },
  {
   "cell_type": "markdown",
   "id": "e167f170",
   "metadata": {},
   "source": [
    "First pull the Russell 3K data"
   ]
  },
  {
   "cell_type": "code",
   "execution_count": 4,
   "id": "4a55926a",
   "metadata": {},
   "outputs": [
    {
     "data": {
      "text/plain": [
       "305"
      ]
     },
     "execution_count": 4,
     "metadata": {},
     "output_type": "execute_result"
    }
   ],
   "source": [
    "iwv = yf.Ticker(\"IWB\")\n",
    "hist = iwv.history(period='max').reset_index()\n",
    "\n",
    "iwv_hist = hist[['Date', 'Close', 'Volume']].rename(columns={'Date': 'date', 'Close': 'price', 'Volume': 'volume'})\n",
    "iwv_hist['ticker'] = 'IWB'\n",
    "iwv_monthly = iwv_hist.set_index('date').resample('ME').last().reset_index()\n",
    "iwv_monthly['date'] = iwv_monthly['date'].dt.date\n",
    "\n",
    "# be careful of re-running this if you already have this saved to the database\n",
    "iwv_monthly.to_sql('eom_prices', psql, if_exists='append', index=False)\n",
    "\n",
    "# now we will have to be careful about pulling in data for portfolio construction, to ensure\n",
    "# that we are not trading the ETF of our benchmark itself...\n",
    "\n",
    "# i mean maybe this is fine? but i dont see why we would trade anything that is in direct \n",
    "# correlation with the market (with some tracking error.)"
   ]
  },
  {
   "cell_type": "markdown",
   "id": "49df09d9",
   "metadata": {},
   "source": [
    "Now aggregate the per-stock equity prices, into end-of-month prices with end-of-month volumes.\n",
    "\n",
    "We might end up having some volume-informed factors and portfolio construction, particularly because some tickers (even if they have amazing alpha), but not be able to be traded.\n",
    "\n",
    "That is, having some volume profiler as a constraint is probably necessary."
   ]
  },
  {
   "cell_type": "code",
   "execution_count": 17,
   "id": "0f3bbfd9",
   "metadata": {},
   "outputs": [],
   "source": [
    "# you will obviously not be able to run this externally, as these files are stored in\n",
    "# my personal computer. read the disclaimer about data if you are confused about why\n",
    "# i am not storing the pricing data on the repository.\n",
    "\n",
    "prices = pd.read_csv('~/Downloads/prices.csv')"
   ]
  },
  {
   "cell_type": "code",
   "execution_count": 19,
   "id": "4e2110b2",
   "metadata": {},
   "outputs": [],
   "source": [
    "# sort by date and ticker\n",
    "prices = prices.sort_values(['ticker', 'date'])"
   ]
  },
  {
   "cell_type": "code",
   "execution_count": 21,
   "id": "e3da07e8",
   "metadata": {},
   "outputs": [],
   "source": [
    "# drop any null\n",
    "prices = prices.dropna()"
   ]
  },
  {
   "cell_type": "markdown",
   "id": "8df6f4f0",
   "metadata": {},
   "source": [
    "The below might be really intensive (if anyone ends up getting the Sharadar data to re-create this) because it's doing some heavy transformations on ~4GB of daily equity data.\n",
    "\n",
    "My 16GB M1 Macbook Air struggled on this, so if you're on 8GB you might need to partition the data into multiple chunks and do it by batch."
   ]
  },
  {
   "cell_type": "code",
   "execution_count": 24,
   "id": "04671ac7",
   "metadata": {},
   "outputs": [
    {
     "name": "stderr",
     "output_type": "stream",
     "text": [
      "/var/folders/qq/9n_h2x6x0pl9pvyr0gpk4m_r0000gn/T/ipykernel_44816/4061356084.py:2: SettingWithCopyWarning: \n",
      "A value is trying to be set on a copy of a slice from a DataFrame.\n",
      "Try using .loc[row_indexer,col_indexer] = value instead\n",
      "\n",
      "See the caveats in the documentation: https://pandas.pydata.org/pandas-docs/stable/user_guide/indexing.html#returning-a-view-versus-a-copy\n",
      "  prices['date'] = pd.to_datetime(prices['date'])\n"
     ]
    }
   ],
   "source": [
    "# get end-of-month data per ticker\n",
    "prices['date'] = pd.to_datetime(prices['date'])\n",
    "monthly_prices = prices.set_index('date').groupby('ticker', group_keys=False).resample('ME').last().reset_index()"
   ]
  },
  {
   "cell_type": "code",
   "execution_count": null,
   "id": "c05b1bcf",
   "metadata": {},
   "outputs": [],
   "source": [
    "monthly_prices = monthly_prices[['date', 'ticker', 'closeadj', 'volume']].rename(\n",
    "    columns = {\n",
    "        'closeadj': 'price'\n",
    "    }\n",
    ")"
   ]
  },
  {
   "cell_type": "code",
   "execution_count": 40,
   "id": "78703266",
   "metadata": {},
   "outputs": [],
   "source": [
    "monthly_prices = monthly_prices[monthly_prices['ticker'] != 'BINI']"
   ]
  },
  {
   "cell_type": "code",
   "execution_count": 41,
   "id": "eab57a9d",
   "metadata": {},
   "outputs": [],
   "source": [
    "monthly_prices = monthly_prices.dropna()\n",
    "monthly_prices.sort_values('price')\n",
    "monthly_prices['volume'] = monthly_prices['volume'].astype(int)"
   ]
  },
  {
   "cell_type": "code",
   "execution_count": 43,
   "id": "bf6a83e3",
   "metadata": {},
   "outputs": [
    {
     "data": {
      "text/html": [
       "<div>\n",
       "<style scoped>\n",
       "    .dataframe tbody tr th:only-of-type {\n",
       "        vertical-align: middle;\n",
       "    }\n",
       "\n",
       "    .dataframe tbody tr th {\n",
       "        vertical-align: top;\n",
       "    }\n",
       "\n",
       "    .dataframe thead th {\n",
       "        text-align: right;\n",
       "    }\n",
       "</style>\n",
       "<table border=\"1\" class=\"dataframe\">\n",
       "  <thead>\n",
       "    <tr style=\"text-align: right;\">\n",
       "      <th></th>\n",
       "      <th>date</th>\n",
       "      <th>ticker</th>\n",
       "      <th>price</th>\n",
       "      <th>volume</th>\n",
       "    </tr>\n",
       "  </thead>\n",
       "  <tbody>\n",
       "    <tr>\n",
       "      <th>485217</th>\n",
       "      <td>2017-10-31</td>\n",
       "      <td>CPSL1</td>\n",
       "      <td>1.000000e-04</td>\n",
       "      <td>0</td>\n",
       "    </tr>\n",
       "    <tr>\n",
       "      <th>844440</th>\n",
       "      <td>2010-12-31</td>\n",
       "      <td>GIGIQ</td>\n",
       "      <td>1.000000e-04</td>\n",
       "      <td>13400</td>\n",
       "    </tr>\n",
       "    <tr>\n",
       "      <th>1800102</th>\n",
       "      <td>2025-07-31</td>\n",
       "      <td>SMXWW</td>\n",
       "      <td>1.000000e-04</td>\n",
       "      <td>18500</td>\n",
       "    </tr>\n",
       "    <tr>\n",
       "      <th>1877825</th>\n",
       "      <td>2022-12-31</td>\n",
       "      <td>SWETW</td>\n",
       "      <td>1.000000e-04</td>\n",
       "      <td>51927</td>\n",
       "    </tr>\n",
       "    <tr>\n",
       "      <th>1950311</th>\n",
       "      <td>2022-10-31</td>\n",
       "      <td>TMPMW</td>\n",
       "      <td>1.000000e-04</td>\n",
       "      <td>3358</td>\n",
       "    </tr>\n",
       "    <tr>\n",
       "      <th>...</th>\n",
       "      <td>...</td>\n",
       "      <td>...</td>\n",
       "      <td>...</td>\n",
       "      <td>...</td>\n",
       "    </tr>\n",
       "    <tr>\n",
       "      <th>1958801</th>\n",
       "      <td>2005-03-31</td>\n",
       "      <td>TOPS</td>\n",
       "      <td>4.611881e+14</td>\n",
       "      <td>0</td>\n",
       "    </tr>\n",
       "    <tr>\n",
       "      <th>1958813</th>\n",
       "      <td>2006-03-31</td>\n",
       "      <td>TOPS</td>\n",
       "      <td>4.683842e+14</td>\n",
       "      <td>0</td>\n",
       "    </tr>\n",
       "    <tr>\n",
       "      <th>170379</th>\n",
       "      <td>2007-12-31</td>\n",
       "      <td>ASTI</td>\n",
       "      <td>4.972000e+14</td>\n",
       "      <td>0</td>\n",
       "    </tr>\n",
       "    <tr>\n",
       "      <th>1958800</th>\n",
       "      <td>2005-02-28</td>\n",
       "      <td>TOPS</td>\n",
       "      <td>5.302477e+14</td>\n",
       "      <td>0</td>\n",
       "    </tr>\n",
       "    <tr>\n",
       "      <th>1958797</th>\n",
       "      <td>2004-11-30</td>\n",
       "      <td>TOPS</td>\n",
       "      <td>5.480325e+14</td>\n",
       "      <td>0</td>\n",
       "    </tr>\n",
       "  </tbody>\n",
       "</table>\n",
       "<p>2198233 rows × 4 columns</p>\n",
       "</div>"
      ],
      "text/plain": [
       "              date ticker         price  volume\n",
       "485217  2017-10-31  CPSL1  1.000000e-04       0\n",
       "844440  2010-12-31  GIGIQ  1.000000e-04   13400\n",
       "1800102 2025-07-31  SMXWW  1.000000e-04   18500\n",
       "1877825 2022-12-31  SWETW  1.000000e-04   51927\n",
       "1950311 2022-10-31  TMPMW  1.000000e-04    3358\n",
       "...            ...    ...           ...     ...\n",
       "1958801 2005-03-31   TOPS  4.611881e+14       0\n",
       "1958813 2006-03-31   TOPS  4.683842e+14       0\n",
       "170379  2007-12-31   ASTI  4.972000e+14       0\n",
       "1958800 2005-02-28   TOPS  5.302477e+14       0\n",
       "1958797 2004-11-30   TOPS  5.480325e+14       0\n",
       "\n",
       "[2198233 rows x 4 columns]"
      ]
     },
     "execution_count": 43,
     "metadata": {},
     "output_type": "execute_result"
    }
   ],
   "source": [
    "monthly_prices.sort_values('price')"
   ]
  },
  {
   "cell_type": "code",
   "execution_count": 44,
   "id": "931708d4",
   "metadata": {},
   "outputs": [
    {
     "data": {
      "text/plain": [
       "233"
      ]
     },
     "execution_count": 44,
     "metadata": {},
     "output_type": "execute_result"
    }
   ],
   "source": [
    "monthly_prices.to_sql('eom_prices', psql, if_exists='append', index=False)"
   ]
  }
 ],
 "metadata": {
  "kernelspec": {
   "display_name": "research",
   "language": "python",
   "name": "python3"
  },
  "language_info": {
   "codemirror_mode": {
    "name": "ipython",
    "version": 3
   },
   "file_extension": ".py",
   "mimetype": "text/x-python",
   "name": "python",
   "nbconvert_exporter": "python",
   "pygments_lexer": "ipython3",
   "version": "3.12.2"
  }
 },
 "nbformat": 4,
 "nbformat_minor": 5
}
