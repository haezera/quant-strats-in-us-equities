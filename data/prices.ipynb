{
 "cells": [
  {
   "cell_type": "markdown",
   "id": "c829eee3",
   "metadata": {},
   "source": [
    "In this notebook I clean and aggregate equity data to end-of-month data.\n",
    "\n",
    "I also fetch end of month data for the Russell 3000, proxied by `IWV`, an iShares Russell 3000 ETF."
   ]
  },
  {
   "cell_type": "code",
   "execution_count": 1,
   "id": "18756c4b",
   "metadata": {},
   "outputs": [],
   "source": [
    "import pandas as pd"
   ]
  },
  {
   "cell_type": "code",
   "execution_count": null,
   "id": "0f3bbfd9",
   "metadata": {},
   "outputs": [],
   "source": [
    "# you will obviously not be able to run this externally, as these files are stored in\n",
    "#\n",
    "\n",
    "pd.read_csv('')"
   ]
  }
 ],
 "metadata": {
  "kernelspec": {
   "display_name": "research",
   "language": "python",
   "name": "python3"
  },
  "language_info": {
   "codemirror_mode": {
    "name": "ipython",
    "version": 3
   },
   "file_extension": ".py",
   "mimetype": "text/x-python",
   "name": "python",
   "nbconvert_exporter": "python",
   "pygments_lexer": "ipython3",
   "version": "3.12.2"
  }
 },
 "nbformat": 4,
 "nbformat_minor": 5
}
